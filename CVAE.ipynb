{
 "cells": [
  {
   "cell_type": "code",
   "execution_count": 1,
   "metadata": {},
   "outputs": [
    {
     "name": "stdout",
     "output_type": "stream",
     "text": [
      "cuda\n"
     ]
    }
   ],
   "source": [
    "%load_ext autoreload\n",
    "%autoreload 2\n",
    "\n",
    "import random\n",
    "import numpy as np\n",
    "import torch\n",
    "from torch.utils.data import DataLoader\n",
    "import torchvision\n",
    "import torch.nn as nn\n",
    "import torch.optim as optim\n",
    "import matplotlib.pyplot as plt/Projet-CNN.ipynb\n",
    "import torch.nn.functional as F\n",
    "from torchvision import datasets, transforms\n",
    "\n",
    "\n",
    "device = torch.device(\"cuda\" if torch.cuda.is_available() else \"cpu\")\n",
    "print(device)"
   ]
  },
  {
   "cell_type": "markdown",
   "metadata": {},
   "source": [
    "Chargement des données"
   ]
  },
  {
   "cell_type": "code",
   "execution_count": 2,
   "metadata": {},
   "outputs": [],
   "source": [
    "data_path = '/home/catalogn/Documents/5A/HDDL/projets/projet2/fashion-mnist/data/fashion'\n",
    "\n",
    "batch_size = 128\n",
    "\n",
    "# Data loading\n",
    "transform = transforms.Compose([transforms.ToTensor()])\n",
    "train_dataset = datasets.MNIST(root=data_path, train=True, transform=transform, download=True)\n",
    "test_dataset = datasets.MNIST(root=data_path, train=False, transform=transform, download=True)\n",
    "\n",
    "train_loader = torch.utils.data.DataLoader(dataset=train_dataset, batch_size=batch_size, shuffle=True)\n",
    "test_loader = torch.utils.data.DataLoader(dataset=test_dataset, batch_size=batch_size, shuffle=False)"
   ]
  },
  {
   "cell_type": "code",
   "execution_count": 3,
   "metadata": {},
   "outputs": [
    {
     "ename": "NameError",
     "evalue": "name 'imshow' is not defined",
     "output_type": "error",
     "traceback": [
      "\u001b[0;31m---------------------------------------------------------------------------\u001b[0m",
      "\u001b[0;31mNameError\u001b[0m                                 Traceback (most recent call last)",
      "Cell \u001b[0;32mIn[3], line 15\u001b[0m\n\u001b[1;32m     12\u001b[0m random_label \u001b[38;5;241m=\u001b[39m labels[random_idx]\n\u001b[1;32m     14\u001b[0m \u001b[38;5;66;03m# Afficher l'image aléatoire et son label\u001b[39;00m\n\u001b[0;32m---> 15\u001b[0m \u001b[43mimshow\u001b[49m(random_image)\n\u001b[1;32m     16\u001b[0m \u001b[38;5;28mprint\u001b[39m(\u001b[38;5;124mf\u001b[39m\u001b[38;5;124m'\u001b[39m\u001b[38;5;124mLabel de l\u001b[39m\u001b[38;5;130;01m\\'\u001b[39;00m\u001b[38;5;124mimage : \u001b[39m\u001b[38;5;132;01m{\u001b[39;00mrandom_label\u001b[38;5;241m.\u001b[39mitem()\u001b[38;5;132;01m}\u001b[39;00m\u001b[38;5;124m'\u001b[39m)\n",
      "\u001b[0;31mNameError\u001b[0m: name 'imshow' is not defined"
     ]
    }
   ],
   "source": [
    "# Tirer une image aléatoire sur tout le dataset d'entraînement\n",
    "random_batch_idx = random.randint(0, len(train_loader) - 1)\n",
    "dataiter = iter(train_loader)\n",
    "\n",
    "# Parcourir jusqu'au batch aléatoire\n",
    "for i in range(random_batch_idx):\n",
    "    images, labels = next(dataiter)\n",
    "\n",
    "# Sélectionner une image aléatoire dans ce batch\n",
    "random_idx = random.randint(0, len(images) - 1)\n",
    "random_image = images[random_idx]\n",
    "random_label = labels[random_idx]\n",
    "\n",
    "# Afficher l'image aléatoire et son label\n",
    "imshow(random_image)\n",
    "print(f'Label de l\\'image : {random_label.item()}')"
   ]
  }
 ],
 "metadata": {
  "kernelspec": {
   "display_name": "Python <torch>",
   "language": "python",
   "name": "torch"
  },
  "language_info": {
   "codemirror_mode": {
    "name": "ipython",
    "version": 3
   },
   "file_extension": ".py",
   "mimetype": "text/x-python",
   "name": "python",
   "nbconvert_exporter": "python",
   "pygments_lexer": "ipython3",
   "version": "3.10.14"
  }
 },
 "nbformat": 4,
 "nbformat_minor": 4
}
