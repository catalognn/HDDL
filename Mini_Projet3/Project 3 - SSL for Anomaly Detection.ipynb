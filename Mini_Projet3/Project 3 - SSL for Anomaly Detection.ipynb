{
 "cells": [
  {
   "cell_type": "code",
   "execution_count": 1,
   "id": "dfe7be36",
   "metadata": {},
   "outputs": [
    {
     "name": "stdout",
     "output_type": "stream",
     "text": [
      "Hello World\n"
     ]
    }
   ],
   "source": [
    "print(\"Hello World\")"
   ]
  },
  {
   "cell_type": "markdown",
   "id": "d0be57c3",
   "metadata": {},
   "source": [
    "### Subject\n",
    "\n",
    "#### The objective of this mini-project is to train compare different SSL strategies by evaluating them on an Anomaly Detection downstream task. \n",
    "\n",
    "You will be using two anomaly detection datasets:\n",
    "\n",
    " • The MVTec AD datase (download from MVTec AD). Perform your exper\n",
    "iments on AT LEAST the following categories: bottle, hazelnut, capsule,\n",
    " toothbrush.\n",
    " \n",
    " • The AutoVI dataset (download from AutoVI). Perform your experiments\n",
    " ONLY on the following category: engine wiring.\n",
    " \n",
    "####  For each of the categories, you are asked to:\n",
    " \n",
    " • Train AT LEAST three different SSL models (masked autoencoder, con\n",
    "trastive model, inpainting model, colorizing model, siamese network...) using\n",
    " only the normal, training data.\n",
    "\n",
    "• Use the model loss as an anomaly score and evaluate the anomaly score’s\n",
    " discriminative power by plotting the ROC curve and the AUROC metric.\n",
    "\n",
    "\n",
    "#### Points will be awarding according to the following criteria:\n",
    "\n",
    "• The notebook is clearly written, contains markdown cells with all necessary\n",
    " explanations, and the code cells are well commented.\n",
    "\n",
    "• Explanation and arguments of the different model choices, architecture choices\n",
    " and hyper-parameter choices (which need not be the same for all categories!).\n",
    "\n",
    "• Clear comparison and visualization of the results (plots, tables...)\n",
    " Extra bonus points will be awarded according to the following criteria:\n",
    "\n",
    "• Originality of the model choice (i.e. choosing models different than those\n",
    " seen during the TP)\n",
    "\n",
    "• Theobtained AUROC metrics will be compared between different teams and\n",
    " bonus points will be given according to the rankings"
   ]
  },
  {
   "cell_type": "code",
   "execution_count": null,
   "id": "625fd871",
   "metadata": {},
   "outputs": [],
   "source": []
  }
 ],
 "metadata": {
  "kernelspec": {
   "display_name": "Python 3 (ipykernel)",
   "language": "python",
   "name": "python3"
  },
  "language_info": {
   "codemirror_mode": {
    "name": "ipython",
    "version": 3
   },
   "file_extension": ".py",
   "mimetype": "text/x-python",
   "name": "python",
   "nbconvert_exporter": "python",
   "pygments_lexer": "ipython3",
   "version": "3.11.5"
  }
 },
 "nbformat": 4,
 "nbformat_minor": 5
}
